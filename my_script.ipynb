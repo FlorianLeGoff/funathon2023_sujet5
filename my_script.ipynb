{
 "cells": [
  {
   "cell_type": "markdown",
   "id": "c4cb6670-5e09-452f-84a5-634a337805d6",
   "metadata": {},
   "source": [
    "# Mon script"
   ]
  },
  {
   "cell_type": "code",
   "execution_count": 3,
   "id": "e24d9599-6ca1-4c72-8b91-24ba5b86d497",
   "metadata": {},
   "outputs": [],
   "source": [
    "!pip install --quiet -r requirements.txt"
   ]
  },
  {
   "cell_type": "markdown",
   "id": "6c85041b-d929-4cbd-9449-5f613028adfb",
   "metadata": {},
   "source": [
    "Web scraping"
   ]
  },
  {
   "cell_type": "code",
   "execution_count": 14,
   "id": "a17c3927-f8a7-4e2b-b547-6fff1139c794",
   "metadata": {},
   "outputs": [],
   "source": [
    "import requests\n",
    "import time\n",
    "from bs4 import BeautifulSoup"
   ]
  },
  {
   "cell_type": "code",
   "execution_count": 67,
   "id": "0d1493c6-5751-4e20-b385-b048419f4342",
   "metadata": {},
   "outputs": [],
   "source": [
    "headers = {\n",
    "    'User-Agent': 'INSEE - test', # Nom, entité, but de la collecte, informations pertinentes\n",
    "    'From': 'insee.fr' # Coordonnées à laisser au propriétaire du site en cas de besoin\n",
    "}\n",
    "\n",
    "url = \"https://fr.trustpilot.com/review/\"\n",
    "company = \"smartfooding.com\""
   ]
  },
  {
   "cell_type": "code",
   "execution_count": 68,
   "id": "c3dbe8b8-be15-439b-b6b4-566c12b0f263",
   "metadata": {},
   "outputs": [
    {
     "name": "stdout",
     "output_type": "stream",
     "text": [
      "35\n"
     ]
    }
   ],
   "source": [
    "url_company = url + company\n",
    "request_text = requests.get(url_company, headers=headers).text\n",
    "soup = BeautifulSoup(request_text, 'html.parser')\n",
    "bouton_derniere_page = soup.find('a', {'name':'pagination-button-last'}).text\n",
    "print(bouton_derniere_page)"
   ]
  },
  {
   "cell_type": "code",
   "execution_count": 69,
   "id": "6e8f60f1-bfd6-4940-942c-3ca3a8d52262",
   "metadata": {},
   "outputs": [],
   "source": [
    "def get_nb_pages_reviews(url_company):\n",
    "\n",
    "    time.sleep(2)\n",
    "    request_text = requests.get(url_company, headers=headers).text\n",
    "    soup = BeautifulSoup(request_text, 'html.parser')\n",
    "\n",
    "    try:\n",
    "        bouton_derniere_page = soup.find('a', {'name':'pagination-button-last'}).text\n",
    "        last_page = int(bouton_derniere_page)  # Dernier bouton = \"Page Suivante\"\n",
    "        return last_page\n",
    "\n",
    "    except:\n",
    "        return 0"
   ]
  },
  {
   "cell_type": "code",
   "execution_count": 70,
   "id": "e389c194-c622-409e-9e4d-579c4d99433a",
   "metadata": {},
   "outputs": [
    {
     "name": "stdout",
     "output_type": "stream",
     "text": [
      "35\n"
     ]
    }
   ],
   "source": [
    "a = get_nb_pages_reviews(url_company)\n",
    "print(a)"
   ]
  },
  {
   "cell_type": "code",
   "execution_count": 88,
   "id": "d7ded66a-b035-45cf-a8eb-1086267b0e86",
   "metadata": {},
   "outputs": [
    {
     "name": "stdout",
     "output_type": "stream",
     "text": [
      "2\n"
     ]
    }
   ],
   "source": [
    "request_text = requests.get(\"https://fr.trustpilot.com/review/smartfooding.com?page=1\", headers=headers).text\n",
    "soup = BeautifulSoup(request_text, 'html.parser')\n",
    "reviews = soup.find_all('div', {'class':'styles_cardWrapper__LcCPA styles_show__HUXRb styles_reviewCard__9HxJJ'})\n",
    "\n",
    "texte_note = reviews[0].find(\n",
    "            'div', {'class':'star-rating_starRating__4rrcf star-rating_medium__iN6Ty'}\n",
    "        ).find('img', alt=True)['alt']\n",
    "\n",
    "note = int(texte_note[5])\n",
    "\n",
    "print(note)"
   ]
  },
  {
   "cell_type": "code",
   "execution_count": 89,
   "id": "899cb25e-a7e2-4337-8a7f-249f0a716fc8",
   "metadata": {},
   "outputs": [
    {
     "name": "stdout",
     "output_type": "stream",
     "text": [
      "Pilar\n"
     ]
    }
   ],
   "source": [
    "request_text = requests.get(\"https://fr.trustpilot.com/review/smartfooding.com?page=1\", headers=headers).text\n",
    "soup = BeautifulSoup(request_text, 'html.parser')\n",
    "reviews = soup.find_all('div', {'class':'styles_cardWrapper__LcCPA styles_show__HUXRb styles_reviewCard__9HxJJ'})\n",
    "\n",
    "pseudo = reviews[0].find('span', {'class':'typography_heading-xxs__QKBS8 typography_appearance-default__AAY17'}).text\n",
    "print(pseudo)"
   ]
  },
  {
   "cell_type": "code",
   "execution_count": 94,
   "id": "06ac4ae6-3ccb-47bd-a96d-8246520805ec",
   "metadata": {},
   "outputs": [
    {
     "name": "stdout",
     "output_type": "stream",
     "text": [
      "1 avis\n"
     ]
    }
   ],
   "source": [
    "request_text = requests.get(\"https://fr.trustpilot.com/review/smartfooding.com?page=1\", headers=headers).text\n",
    "soup = BeautifulSoup(request_text, 'html.parser')\n",
    "reviews = soup.find_all('div', {'class':'styles_cardWrapper__LcCPA styles_show__HUXRb styles_reviewCard__9HxJJ'})\n",
    "\n",
    "nb_avis = reviews[0].find('span', {'class':'typography_body-m__xgxZ_ typography_appearance-subtle__8_H2l'}).text\n",
    "print(nb_avis)"
   ]
  }
 ],
 "metadata": {
  "kernelspec": {
   "display_name": "Python 3 (ipykernel)",
   "language": "python",
   "name": "python3"
  },
  "language_info": {
   "codemirror_mode": {
    "name": "ipython",
    "version": 3
   },
   "file_extension": ".py",
   "mimetype": "text/x-python",
   "name": "python",
   "nbconvert_exporter": "python",
   "pygments_lexer": "ipython3",
   "version": "3.10.9"
  }
 },
 "nbformat": 4,
 "nbformat_minor": 5
}
