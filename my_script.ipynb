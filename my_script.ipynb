{
 "cells": [
  {
   "cell_type": "markdown",
   "id": "c4cb6670-5e09-452f-84a5-634a337805d6",
   "metadata": {},
   "source": [
    "# Mon script"
   ]
  },
  {
   "cell_type": "code",
   "execution_count": null,
   "id": "e24d9599-6ca1-4c72-8b91-24ba5b86d497",
   "metadata": {},
   "outputs": [],
   "source": []
  }
 ],
 "metadata": {
  "kernelspec": {
   "display_name": "Python 3 (ipykernel)",
   "language": "python",
   "name": "python3"
  },
  "language_info": {
   "codemirror_mode": {
    "name": "ipython",
    "version": 3
   },
   "file_extension": ".py",
   "mimetype": "text/x-python",
   "name": "python",
   "nbconvert_exporter": "python",
   "pygments_lexer": "ipython3",
   "version": "3.10.9"
  }
 },
 "nbformat": 4,
 "nbformat_minor": 5
}
